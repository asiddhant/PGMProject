{
 "cells": [
  {
   "cell_type": "code",
   "execution_count": 1,
   "metadata": {},
   "outputs": [],
   "source": [
    "import pickle as pkl\n",
    "import os"
   ]
  },
  {
   "cell_type": "code",
   "execution_count": 4,
   "metadata": {},
   "outputs": [],
   "source": [
    "srl_data = pkl.load(open(os.path.join('../Active-NLP/datasets/conll12srl/srl_data.p'),'rb'))"
   ]
  },
  {
   "cell_type": "code",
   "execution_count": 9,
   "metadata": {},
   "outputs": [],
   "source": [
    "srl_data = [list(abc) for abc in srl_data]"
   ]
  },
  {
   "cell_type": "code",
   "execution_count": 14,
   "metadata": {},
   "outputs": [],
   "source": [
    "for i in range(len(srl_data)):\n",
    "    srl_data[i][0] = [str(abc) for abc in srl_data[i][0]]"
   ]
  },
  {
   "cell_type": "code",
   "execution_count": 18,
   "metadata": {},
   "outputs": [],
   "source": [
    "srl_train_data = srl_data[:297357]\n",
    "srl_val_data = srl_data[297357:338241]\n",
    "srl_test_data = srl_data[338241:]"
   ]
  },
  {
   "cell_type": "code",
   "execution_count": 14,
   "metadata": {},
   "outputs": [],
   "source": [
    "pkl.dump(train_data, open('datasets/pbsent/train_data.p','wb'))"
   ]
  },
  {
   "cell_type": "code",
   "execution_count": 16,
   "metadata": {},
   "outputs": [],
   "source": [
    "pkl.dump(test_data, open('datasets/pbsent/val_data.p','wb'))"
   ]
  },
  {
   "cell_type": "code",
   "execution_count": 15,
   "metadata": {},
   "outputs": [],
   "source": [
    "pkl.dump(test_data, open('datasets/pbsent/test_data.p','wb'))"
   ]
  },
  {
   "cell_type": "code",
   "execution_count": 23,
   "metadata": {},
   "outputs": [],
   "source": [
    "srl_train_data = pkl.load(open('../Active-NLP/datasets/conll05srl/train_data.pkl','rb'),errors='ignore')\n",
    "srl_val_data = pkl.load(open('../Active-NLP/datasets/conll05srl/dev_data.pkl','rb'),errors='ignore')\n",
    "srl_test_data = pkl.load(open('../Active-NLP/datasets/conll05srl/test_data.pkl','rb'),errors='ignore')"
   ]
  },
  {
   "cell_type": "code",
   "execution_count": 24,
   "metadata": {},
   "outputs": [],
   "source": [
    "for i in range(len(srl_train_data)):\n",
    "    srl_train_data[i][2][-1] = srl_train_data[i][2][-1].strip()\n",
    "for i in range(len(srl_val_data)):\n",
    "    srl_val_data[i][2][-1] = srl_val_data[i][2][-1].strip()\n",
    "for i in range(len(srl_test_data)):\n",
    "    srl_test_data[i][2][-1] = srl_test_data[i][2][-1].strip()"
   ]
  },
  {
   "cell_type": "code",
   "execution_count": 28,
   "metadata": {},
   "outputs": [],
   "source": [
    "srl_train_data = [list(abc) for abc in srl_train_data]\n",
    "srl_val_data = [list(abc) for abc in srl_val_data]\n",
    "srl_test_data = [list(abc) for abc in srl_test_data]"
   ]
  },
  {
   "cell_type": "code",
   "execution_count": 31,
   "metadata": {},
   "outputs": [],
   "source": [
    "for i in range(len(srl_train_data)):\n",
    "    srl_train_data[i][1] = [int(abc) for abc in srl_train_data[i][1]]\n",
    "for i in range(len(srl_val_data)):\n",
    "    srl_val_data[i][1] = [int(abc) for abc in srl_val_data[i][1]]\n",
    "for i in range(len(srl_test_data)):\n",
    "    srl_test_data[i][1] = [int(abc) for abc in srl_test_data[i][1]]"
   ]
  },
  {
   "cell_type": "code",
   "execution_count": null,
   "metadata": {},
   "outputs": [],
   "source": []
  },
  {
   "cell_type": "code",
   "execution_count": 1,
   "metadata": {},
   "outputs": [],
   "source": [
    "import numpy as np"
   ]
  },
  {
   "cell_type": "code",
   "execution_count": 2,
   "metadata": {},
   "outputs": [],
   "source": [
    "train_data = []\n",
    "val_data = []\n",
    "test_data = []\n",
    "with open('../SciQA/all_eventgraphs-2.tsv') as f:\n",
    "    for line in f:\n",
    "        linecontent = line.strip().split('\\t')\n",
    "\n",
    "        words = linecontent[2].split('####')\n",
    "        verbs = linecontent[3].split(';')\n",
    "        tagscontent = linecontent[4].split(';')\n",
    "        assert len(verbs) == len(tagscontent)\n",
    "        for i,verb in enumerate(verbs):\n",
    "            verbind = list(np.array(verb.split(',')).astype('int'))\n",
    "            assert len(verbind) == len(words)\n",
    "            tags = tagscontent[i].split(',')\n",
    "            assert len(tags) == len(verbind)\n",
    "            if linecontent[0] == 'train':\n",
    "                train_data.append([words,verbind,tags])\n",
    "            elif linecontent[0] == 'dev':\n",
    "                val_data.append([words,verbind,tags])\n",
    "            elif linecontent[0] == 'test':\n",
    "                test_data.append([words,verbind,tags])"
   ]
  },
  {
   "cell_type": "code",
   "execution_count": 6,
   "metadata": {},
   "outputs": [
    {
     "data": {
      "text/plain": [
       "38988"
      ]
     },
     "execution_count": 6,
     "metadata": {},
     "output_type": "execute_result"
    }
   ],
   "source": [
    "len(train_data)"
   ]
  },
  {
   "cell_type": "code",
   "execution_count": 7,
   "metadata": {},
   "outputs": [
    {
     "data": {
      "text/plain": [
       "4315"
      ]
     },
     "execution_count": 7,
     "metadata": {},
     "output_type": "execute_result"
    }
   ],
   "source": [
    "len(val_data)"
   ]
  },
  {
   "cell_type": "code",
   "execution_count": 8,
   "metadata": {},
   "outputs": [
    {
     "data": {
      "text/plain": [
       "4389"
      ]
     },
     "execution_count": 8,
     "metadata": {},
     "output_type": "execute_result"
    }
   ],
   "source": [
    "len(test_data)"
   ]
  },
  {
   "cell_type": "code",
   "execution_count": 14,
   "metadata": {},
   "outputs": [],
   "source": [
    "dataset = 'datasets/pbsent/'"
   ]
  },
  {
   "cell_type": "code",
   "execution_count": 2,
   "metadata": {},
   "outputs": [],
   "source": [
    "srl_train_data = pkl.load(open('../SciQA/pb_train_data.p','rb'))\n",
    "srl_test_data = pkl.load(open('../SciQA/pb_test_data.p','rb'))"
   ]
  },
  {
   "cell_type": "code",
   "execution_count": 4,
   "metadata": {},
   "outputs": [],
   "source": [
    "train_data = []\n",
    "for i in range(len(srl_train_data)):\n",
    "    words = srl_train_data[i]['words']\n",
    "    verb = srl_train_data[i]['verb']\n",
    "    tags = srl_train_data[i]['tags']\n",
    "    train_data.append([words, verb, tags])"
   ]
  },
  {
   "cell_type": "code",
   "execution_count": 5,
   "metadata": {},
   "outputs": [
    {
     "data": {
      "text/plain": [
       "1047"
      ]
     },
     "execution_count": 5,
     "metadata": {},
     "output_type": "execute_result"
    }
   ],
   "source": [
    "len(train_data)"
   ]
  },
  {
   "cell_type": "code",
   "execution_count": 9,
   "metadata": {},
   "outputs": [],
   "source": [
    "test_data = []\n",
    "for i in range(len(srl_test_data)):\n",
    "    words = srl_test_data[i]['words']\n",
    "    verb = srl_test_data[i]['verb']\n",
    "    tags = srl_test_data[i]['tags']\n",
    "    test_data.append([words, verb, tags])"
   ]
  },
  {
   "cell_type": "code",
   "execution_count": 10,
   "metadata": {},
   "outputs": [
    {
     "data": {
      "text/plain": [
       "356"
      ]
     },
     "execution_count": 10,
     "metadata": {},
     "output_type": "execute_result"
    }
   ],
   "source": [
    "len(test_data)"
   ]
  },
  {
   "cell_type": "code",
   "execution_count": null,
   "metadata": {},
   "outputs": [],
   "source": []
  },
  {
   "cell_type": "code",
   "execution_count": null,
   "metadata": {},
   "outputs": [],
   "source": []
  },
  {
   "cell_type": "code",
   "execution_count": null,
   "metadata": {},
   "outputs": [],
   "source": []
  },
  {
   "cell_type": "code",
   "execution_count": null,
   "metadata": {},
   "outputs": [],
   "source": []
  },
  {
   "cell_type": "code",
   "execution_count": null,
   "metadata": {},
   "outputs": [],
   "source": []
  }
 ],
 "metadata": {
  "kernelspec": {
   "display_name": "Python [conda env:pytorch_p36]",
   "language": "python",
   "name": "conda-env-pytorch_p36-py"
  },
  "language_info": {
   "codemirror_mode": {
    "name": "ipython",
    "version": 3
   },
   "file_extension": ".py",
   "mimetype": "text/x-python",
   "name": "python",
   "nbconvert_exporter": "python",
   "pygments_lexer": "ipython3",
   "version": "3.6.4"
  }
 },
 "nbformat": 4,
 "nbformat_minor": 2
}
