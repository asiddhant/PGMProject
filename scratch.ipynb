{
 "cells": [
  {
   "cell_type": "code",
   "execution_count": 1,
   "metadata": {},
   "outputs": [],
   "source": [
    "import pickle as pkl\n",
    "import os"
   ]
  },
  {
   "cell_type": "code",
   "execution_count": 4,
   "metadata": {},
   "outputs": [],
   "source": [
    "srl_data = pkl.load(open(os.path.join('../Active-NLP/datasets/conll12srl/srl_data.p'),'rb'))"
   ]
  },
  {
   "cell_type": "code",
   "execution_count": 9,
   "metadata": {},
   "outputs": [],
   "source": [
    "srl_data = [list(abc) for abc in srl_data]"
   ]
  },
  {
   "cell_type": "code",
   "execution_count": 14,
   "metadata": {},
   "outputs": [],
   "source": [
    "for i in range(len(srl_data)):\n",
    "    srl_data[i][0] = [str(abc) for abc in srl_data[i][0]]"
   ]
  },
  {
   "cell_type": "code",
   "execution_count": 18,
   "metadata": {},
   "outputs": [],
   "source": [
    "srl_train_data = srl_data[:297357]\n",
    "srl_val_data = srl_data[297357:338241]\n",
    "srl_test_data = srl_data[338241:]"
   ]
  },
  {
   "cell_type": "code",
   "execution_count": 13,
   "metadata": {},
   "outputs": [],
   "source": [
    "pkl.dump(train_data, open('datasets/pbpara/train_data.p','wb'))"
   ]
  },
  {
   "cell_type": "code",
   "execution_count": 14,
   "metadata": {},
   "outputs": [],
   "source": [
    "pkl.dump(val_data, open('datasets/pbpara/val_data.p','wb'))"
   ]
  },
  {
   "cell_type": "code",
   "execution_count": 15,
   "metadata": {},
   "outputs": [],
   "source": [
    "pkl.dump(test_data, open('datasets/pbpara/test_data.p','wb'))"
   ]
  },
  {
   "cell_type": "code",
   "execution_count": 23,
   "metadata": {},
   "outputs": [],
   "source": [
    "srl_train_data = pkl.load(open('../Active-NLP/datasets/conll05srl/train_data.pkl','rb'),errors='ignore')\n",
    "srl_val_data = pkl.load(open('../Active-NLP/datasets/conll05srl/dev_data.pkl','rb'),errors='ignore')\n",
    "srl_test_data = pkl.load(open('../Active-NLP/datasets/conll05srl/test_data.pkl','rb'),errors='ignore')"
   ]
  },
  {
   "cell_type": "code",
   "execution_count": 24,
   "metadata": {},
   "outputs": [],
   "source": [
    "for i in range(len(srl_train_data)):\n",
    "    srl_train_data[i][2][-1] = srl_train_data[i][2][-1].strip()\n",
    "for i in range(len(srl_val_data)):\n",
    "    srl_val_data[i][2][-1] = srl_val_data[i][2][-1].strip()\n",
    "for i in range(len(srl_test_data)):\n",
    "    srl_test_data[i][2][-1] = srl_test_data[i][2][-1].strip()"
   ]
  },
  {
   "cell_type": "code",
   "execution_count": 28,
   "metadata": {},
   "outputs": [],
   "source": [
    "srl_train_data = [list(abc) for abc in srl_train_data]\n",
    "srl_val_data = [list(abc) for abc in srl_val_data]\n",
    "srl_test_data = [list(abc) for abc in srl_test_data]"
   ]
  },
  {
   "cell_type": "code",
   "execution_count": 31,
   "metadata": {},
   "outputs": [],
   "source": [
    "for i in range(len(srl_train_data)):\n",
    "    srl_train_data[i][1] = [int(abc) for abc in srl_train_data[i][1]]\n",
    "for i in range(len(srl_val_data)):\n",
    "    srl_val_data[i][1] = [int(abc) for abc in srl_val_data[i][1]]\n",
    "for i in range(len(srl_test_data)):\n",
    "    srl_test_data[i][1] = [int(abc) for abc in srl_test_data[i][1]]"
   ]
  },
  {
   "cell_type": "code",
   "execution_count": null,
   "metadata": {},
   "outputs": [],
   "source": []
  },
  {
   "cell_type": "code",
   "execution_count": 2,
   "metadata": {},
   "outputs": [],
   "source": [
    "import numpy as np"
   ]
  },
  {
   "cell_type": "code",
   "execution_count": 3,
   "metadata": {},
   "outputs": [],
   "source": [
    "train_data = []\n",
    "val_data = []\n",
    "test_data = []\n",
    "with open('../SciQA/all_eventgraphs-2.tsv') as f:\n",
    "    for line in f:\n",
    "        linecontent = line.strip().split('\\t')\n",
    "\n",
    "        words = linecontent[2].split('####')\n",
    "        verbs = linecontent[3].split(';')\n",
    "        tagscontent = linecontent[4].split(';')\n",
    "        assert len(verbs) == len(tagscontent)\n",
    "        for i,verb in enumerate(verbs):\n",
    "            verbind = list(np.array(verb.split(',')).astype('int'))\n",
    "            assert len(verbind) == len(words)\n",
    "            tags = tagscontent[i].split(',')\n",
    "            for itg in range(len(tags)):\n",
    "                if tags[itg]=='B-VERB':\n",
    "                    tags[itg] = 'B-V'\n",
    "                elif tags[itg]=='I-VERB':\n",
    "                    tags[itg] = 'I-V'\n",
    "            assert len(tags) == len(verbind)\n",
    "            if linecontent[0] == 'train':\n",
    "                train_data.append([words,verbind,tags])\n",
    "            elif linecontent[0] == 'dev':\n",
    "                val_data.append([words,verbind,tags])\n",
    "            elif linecontent[0] == 'test':\n",
    "                test_data.append([words,verbind,tags])"
   ]
  },
  {
   "cell_type": "code",
   "execution_count": 10,
   "metadata": {},
   "outputs": [
    {
     "data": {
      "text/plain": [
       "38988"
      ]
     },
     "execution_count": 10,
     "metadata": {},
     "output_type": "execute_result"
    }
   ],
   "source": [
    "len(train_data)"
   ]
  },
  {
   "cell_type": "code",
   "execution_count": 11,
   "metadata": {},
   "outputs": [
    {
     "data": {
      "text/plain": [
       "4315"
      ]
     },
     "execution_count": 11,
     "metadata": {},
     "output_type": "execute_result"
    }
   ],
   "source": [
    "len(val_data)"
   ]
  },
  {
   "cell_type": "code",
   "execution_count": 12,
   "metadata": {},
   "outputs": [
    {
     "data": {
      "text/plain": [
       "4389"
      ]
     },
     "execution_count": 12,
     "metadata": {},
     "output_type": "execute_result"
    }
   ],
   "source": [
    "len(test_data)"
   ]
  },
  {
   "cell_type": "code",
   "execution_count": 8,
   "metadata": {},
   "outputs": [
    {
     "data": {
      "text/plain": [
       "[['On',\n",
       "  'the',\n",
       "  'side',\n",
       "  'of',\n",
       "  'earth',\n",
       "  'away',\n",
       "  'from',\n",
       "  'the',\n",
       "  'sun',\n",
       "  'draw',\n",
       "  'the',\n",
       "  'moon,',\n",
       "  'but',\n",
       "  'put',\n",
       "  'it',\n",
       "  'somewhat',\n",
       "  'above',\n",
       "  'the',\n",
       "  'earth-sun',\n",
       "  'line.'],\n",
       " [0, 0, 0, 0, 0, 0, 0, 0, 0, 1, 0, 0, 0, 0, 0, 0, 0, 0, 0, 0],\n",
       " ['B-LOC',\n",
       "  'I-LOC',\n",
       "  'I-LOC',\n",
       "  'I-LOC',\n",
       "  'I-LOC',\n",
       "  'I-LOC',\n",
       "  'I-LOC',\n",
       "  'I-LOC',\n",
       "  'I-LOC',\n",
       "  'B-V',\n",
       "  'B-PATIENT',\n",
       "  'I-PATIENT',\n",
       "  'O',\n",
       "  'B-ENABLE',\n",
       "  'O',\n",
       "  'O',\n",
       "  'O',\n",
       "  'O',\n",
       "  'O',\n",
       "  'O']]"
      ]
     },
     "execution_count": 8,
     "metadata": {},
     "output_type": "execute_result"
    }
   ],
   "source": [
    "test_data[0]"
   ]
  },
  {
   "cell_type": "code",
   "execution_count": 2,
   "metadata": {},
   "outputs": [],
   "source": [
    "dataset = 'datasets/pbsent/'"
   ]
  },
  {
   "cell_type": "code",
   "execution_count": 3,
   "metadata": {},
   "outputs": [],
   "source": [
    "srl_train_data = pkl.load(open('../SciQA/pb_train_data.p','rb'))\n",
    "srl_test_data = pkl.load(open('../SciQA/pb_test_data.p','rb'))"
   ]
  },
  {
   "cell_type": "code",
   "execution_count": 4,
   "metadata": {},
   "outputs": [],
   "source": [
    "train_data = []\n",
    "for i in range(len(srl_train_data)):\n",
    "    words = srl_train_data[i]['words']\n",
    "    verb = srl_train_data[i]['verb']\n",
    "    tags = srl_train_data[i]['tags']\n",
    "    train_data.append([words, verb, tags])"
   ]
  },
  {
   "cell_type": "code",
   "execution_count": 5,
   "metadata": {},
   "outputs": [
    {
     "data": {
      "text/plain": [
       "1047"
      ]
     },
     "execution_count": 5,
     "metadata": {},
     "output_type": "execute_result"
    }
   ],
   "source": [
    "len(train_data)"
   ]
  },
  {
   "cell_type": "code",
   "execution_count": 6,
   "metadata": {},
   "outputs": [],
   "source": [
    "test_data = []\n",
    "for i in range(len(srl_test_data)):\n",
    "    words = srl_test_data[i]['words']\n",
    "    verb = srl_test_data[i]['verb']\n",
    "    tags = srl_test_data[i]['tags']\n",
    "    test_data.append([words, verb, tags])"
   ]
  },
  {
   "cell_type": "code",
   "execution_count": 7,
   "metadata": {},
   "outputs": [
    {
     "data": {
      "text/plain": [
       "356"
      ]
     },
     "execution_count": 7,
     "metadata": {},
     "output_type": "execute_result"
    }
   ],
   "source": [
    "len(test_data)"
   ]
  },
  {
   "cell_type": "code",
   "execution_count": 8,
   "metadata": {},
   "outputs": [
    {
     "data": {
      "text/plain": [
       "[['As',\n",
       "  'the',\n",
       "  'external',\n",
       "  'concentration',\n",
       "  'of',\n",
       "  'signaling',\n",
       "  'molecules',\n",
       "  'falls',\n",
       "  'fewer',\n",
       "  'receptors',\n",
       "  'are',\n",
       "  'bound',\n",
       "  'at',\n",
       "  'any',\n",
       "  'given',\n",
       "  'moment',\n",
       "  'and',\n",
       "  'the',\n",
       "  'unbound',\n",
       "  'receptors',\n",
       "  'revert',\n",
       "  'to',\n",
       "  'their',\n",
       "  'inactive',\n",
       "  'form'],\n",
       " [0, 0, 0, 0, 0, 0, 0, 1, 0, 0, 0, 0, 0, 0, 0, 0, 0, 0, 0, 0, 0, 0, 0, 0, 0],\n",
       " ['O',\n",
       "  'B-Theme',\n",
       "  'I-Theme',\n",
       "  'I-Theme',\n",
       "  'I-Theme',\n",
       "  'I-Theme',\n",
       "  'I-Theme',\n",
       "  'B-V',\n",
       "  'O',\n",
       "  'O',\n",
       "  'O',\n",
       "  'B-Cause',\n",
       "  'O',\n",
       "  'O',\n",
       "  'O',\n",
       "  'O',\n",
       "  'O',\n",
       "  'O',\n",
       "  'O',\n",
       "  'O',\n",
       "  'B-Enable',\n",
       "  'O',\n",
       "  'O',\n",
       "  'O',\n",
       "  'O']]"
      ]
     },
     "execution_count": 8,
     "metadata": {},
     "output_type": "execute_result"
    }
   ],
   "source": [
    "train_data[0]"
   ]
  },
  {
   "cell_type": "code",
   "execution_count": 6,
   "metadata": {},
   "outputs": [
    {
     "name": "stdout",
     "output_type": "stream",
     "text": [
      "534\n",
      "895\n",
      "1356\n",
      "1539\n",
      "3045\n",
      "3452\n",
      "4379\n",
      "5176\n",
      "6145\n",
      "7319\n",
      "9202\n",
      "10111\n",
      "12086\n",
      "12349\n",
      "12350\n",
      "12528\n",
      "12592\n",
      "12593\n",
      "12594\n",
      "13458\n",
      "14034\n",
      "17226\n",
      "18651\n",
      "22014\n",
      "22869\n",
      "23235\n",
      "23635\n",
      "24334\n",
      "24808\n",
      "24809\n",
      "25081\n",
      "25082\n",
      "27276\n",
      "29489\n",
      "30798\n",
      "32260\n",
      "36534\n",
      "37884\n",
      "37952\n",
      "38173\n",
      "39408\n",
      "41431\n",
      "50889\n",
      "50890\n",
      "54724\n",
      "55818\n",
      "57393\n",
      "58116\n",
      "59399\n",
      "59653\n",
      "59733\n",
      "59840\n",
      "60243\n",
      "60997\n",
      "60998\n",
      "62615\n",
      "62946\n",
      "63272\n",
      "63475\n",
      "65821\n",
      "66418\n",
      "66624\n",
      "66717\n",
      "68091\n",
      "68455\n"
     ]
    }
   ],
   "source": [
    "train_data = []\n",
    "words = []\n",
    "tags = []\n",
    "verbind = []\n",
    "continu=False\n",
    "a=0\n",
    "with open('../SciQA/train_wtriggers.txt') as f:\n",
    "    for line in f:\n",
    "        a+=1\n",
    "        linecontent = line.strip().split()\n",
    "        if linecontent:\n",
    "            words.append(linecontent[1])\n",
    "            verbind.append(int(linecontent[3]))\n",
    "            if int(linecontent[3])==1 and continu==False:\n",
    "                tags.append('B-V')\n",
    "                continu=True\n",
    "            elif int(linecontent[3])==1 and continu==True:\n",
    "                tags.append('I-V')\n",
    "                print (a)\n",
    "            else:\n",
    "                tags.append(linecontent[4])\n",
    "                continu=False\n",
    "        else:\n",
    "            train_data.append([words,verbind,tags])\n",
    "            words=[]\n",
    "            tags=[]\n",
    "            verbind=[]\n",
    "            continu=False\n",
    "            "
   ]
  },
  {
   "cell_type": "code",
   "execution_count": 7,
   "metadata": {},
   "outputs": [
    {
     "data": {
      "text/plain": [
       "785"
      ]
     },
     "execution_count": 7,
     "metadata": {},
     "output_type": "execute_result"
    }
   ],
   "source": [
    "len(train_data)"
   ]
  },
  {
   "cell_type": "code",
   "execution_count": 9,
   "metadata": {},
   "outputs": [
    {
     "name": "stdout",
     "output_type": "stream",
     "text": [
      "843\n",
      "3289\n",
      "3975\n",
      "5519\n",
      "7349\n",
      "7784\n"
     ]
    }
   ],
   "source": [
    "val_data = []\n",
    "words = []\n",
    "tags = []\n",
    "verbind = []\n",
    "continu=False\n",
    "a=0\n",
    "with open('../SciQA/dev_wtriggers.txt') as f:\n",
    "    for line in f:\n",
    "        a+=1\n",
    "        linecontent = line.strip().split()\n",
    "        if linecontent:\n",
    "            words.append(linecontent[1])\n",
    "            verbind.append(int(linecontent[3]))\n",
    "            if int(linecontent[3])==1 and continu==False:\n",
    "                tags.append('B-V')\n",
    "                continu=True\n",
    "            elif int(linecontent[3])==1 and continu==True:\n",
    "                tags.append('I-V')\n",
    "                print (a)\n",
    "            else:\n",
    "                tags.append(linecontent[4])\n",
    "                continu=False\n",
    "        else:\n",
    "            val_data.append([words,verbind,tags])\n",
    "            words=[]\n",
    "            tags=[]\n",
    "            verbind=[]\n",
    "            continu=False\n",
    "            "
   ]
  },
  {
   "cell_type": "code",
   "execution_count": 10,
   "metadata": {},
   "outputs": [
    {
     "data": {
      "text/plain": [
       "97"
      ]
     },
     "execution_count": 10,
     "metadata": {},
     "output_type": "execute_result"
    }
   ],
   "source": [
    "len(val_data)"
   ]
  },
  {
   "cell_type": "code",
   "execution_count": 11,
   "metadata": {},
   "outputs": [
    {
     "name": "stdout",
     "output_type": "stream",
     "text": [
      "626\n",
      "1774\n",
      "3471\n",
      "5008\n",
      "5906\n",
      "7475\n",
      "10095\n",
      "10524\n",
      "12415\n",
      "12892\n",
      "12893\n",
      "14040\n",
      "15433\n",
      "15500\n",
      "16436\n",
      "16747\n",
      "19345\n",
      "19534\n",
      "19696\n",
      "21531\n",
      "21658\n",
      "21858\n"
     ]
    }
   ],
   "source": [
    "test_data = []\n",
    "words = []\n",
    "tags = []\n",
    "verbind = []\n",
    "continu=False\n",
    "a=0\n",
    "with open('../SciQA/test_wtriggers.txt') as f:\n",
    "    for line in f:\n",
    "        a+=1\n",
    "        linecontent = line.strip().split()\n",
    "        if linecontent:\n",
    "            words.append(linecontent[1])\n",
    "            verbind.append(int(linecontent[3]))\n",
    "            if int(linecontent[3])==1 and continu==False:\n",
    "                tags.append('B-V')\n",
    "                continu=True\n",
    "            elif int(linecontent[3])==1 and continu==True:\n",
    "                tags.append('I-V')\n",
    "                print (a)\n",
    "            else:\n",
    "                tags.append(linecontent[4])\n",
    "                continu=False\n",
    "        else:\n",
    "            test_data.append([words,verbind,tags])\n",
    "            words=[]\n",
    "            tags=[]\n",
    "            verbind=[]\n",
    "            continu=False\n",
    "            "
   ]
  },
  {
   "cell_type": "code",
   "execution_count": 12,
   "metadata": {},
   "outputs": [
    {
     "data": {
      "text/plain": [
       "296"
      ]
     },
     "execution_count": 12,
     "metadata": {},
     "output_type": "execute_result"
    }
   ],
   "source": [
    "len(test_data)"
   ]
  },
  {
   "cell_type": "code",
   "execution_count": null,
   "metadata": {},
   "outputs": [],
   "source": []
  }
 ],
 "metadata": {
  "kernelspec": {
   "display_name": "Python [conda env:pytorch_p36]",
   "language": "python",
   "name": "conda-env-pytorch_p36-py"
  },
  "language_info": {
   "codemirror_mode": {
    "name": "ipython",
    "version": 3
   },
   "file_extension": ".py",
   "mimetype": "text/x-python",
   "name": "python",
   "nbconvert_exporter": "python",
   "pygments_lexer": "ipython3",
   "version": "3.6.4"
  }
 },
 "nbformat": 4,
 "nbformat_minor": 2
}
